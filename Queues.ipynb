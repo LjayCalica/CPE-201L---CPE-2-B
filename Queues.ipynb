{
  "nbformat": 4,
  "nbformat_minor": 0,
  "metadata": {
    "colab": {
      "provenance": [],
      "include_colab_link": true
    },
    "kernelspec": {
      "name": "python3",
      "display_name": "Python 3"
    },
    "language_info": {
      "name": "python"
    }
  },
  "cells": [
    {
      "cell_type": "markdown",
      "metadata": {
        "id": "view-in-github",
        "colab_type": "text"
      },
      "source": [
        "<a href=\"https://colab.research.google.com/github/LjayCalica/CPE-201L---CPE-2-B/blob/main/Queues.ipynb\" target=\"_parent\"><img src=\"https://colab.research.google.com/assets/colab-badge.svg\" alt=\"Open In Colab\"/></a>"
      ]
    },
    {
      "cell_type": "markdown",
      "source": [
        "**\" WITH QUEUES \"**"
      ],
      "metadata": {
        "id": "jRdxxvhaIkFW"
      }
    },
    {
      "cell_type": "code",
      "execution_count": 55,
      "metadata": {
        "colab": {
          "base_uri": "https://localhost:8080/"
        },
        "id": "83iWH8slpI0_",
        "outputId": "e395ce9c-c4a7-44d1-849d-a359480c2b95"
      },
      "outputs": [
        {
          "output_type": "stream",
          "name": "stdout",
          "text": [
            "Queue: ['A', 'B', 'C']\n",
            "Size: 3\n",
            "Dequeue: A\n",
            "Queue after Dequeue:  ['B', 'C']\n",
            "IsEmpty: False\n",
            "Size: 2\n"
          ]
        }
      ],
      "source": [
        "class Queue:\n",
        "  def __init__(self):\n",
        "    self.queue = []\n",
        "\n",
        "  def enqueue(self, element):\n",
        "    self.queue.append(element)\n",
        "\n",
        "  def dequeue(self):\n",
        "    if self.isEmpty():\n",
        "      return \"Queue is empty\"\n",
        "    return self.queue.pop(0)\n",
        "\n",
        "  def size(self):\n",
        "    return len(self.queue)\n",
        "\n",
        "  def isEmpty(self):\n",
        "    return len(self.queue) == 0\n",
        "\n",
        "#CREATE A QUEUE\n",
        "mQueue = Queue()\n",
        "\n",
        "mQueue.enqueue('A')\n",
        "mQueue.enqueue('B')\n",
        "mQueue.enqueue('C')\n",
        "\n",
        "#DISPLAY OUTPUT\n",
        "\n",
        "print(\"Queue:\", mQueue.queue)\n",
        "print(\"Size:\", mQueue.size())\n",
        "print(\"Dequeue:\", mQueue.dequeue())\n",
        "print(\"Queue after Dequeue: \", mQueue.queue)\n",
        "print(\"IsEmpty:\", mQueue.isEmpty())\n",
        "print(\"Size:\", mQueue.size())\n"
      ]
    },
    {
      "cell_type": "markdown",
      "source": [
        "**\" WITHOUT QUEUES \"**"
      ],
      "metadata": {
        "id": "iiH7HbWWItY9"
      }
    },
    {
      "cell_type": "code",
      "source": [
        "class Queue:\n",
        "  def __init__(self):\n",
        "    self.queue = []\n",
        "\n",
        "  def enqueue(self, element):\n",
        "    self.queue.append(element)\n",
        "\n",
        "  def dequeue(self):\n",
        "    if self.isEmpty():\n",
        "      return \"Queue is empty\"\n",
        "\n",
        "  def size(self):\n",
        "    return len(self.queue)\n",
        "\n",
        "  def isEmpty(self):\n",
        "    return len(self.queue) == 0\n",
        "\n",
        "#CREATE A QUEUE\n",
        "mQueue = Queue()\n",
        "\n",
        "#DISPLAY OUTPUT\n",
        "\n",
        "print(\"Queue:\", mQueue.queue)\n",
        "print(\"Size:\", mQueue.size())\n",
        "print(\"Dequeue:\", mQueue.dequeue())\n",
        "print(\"Queue after Dequeue: \", mQueue.queue)\n",
        "print(\"IsEmpty:\", mQueue.isEmpty())\n",
        "print(\"Size:\", mQueue.size())\n"
      ],
      "metadata": {
        "id": "Yign1wR-Hyx4",
        "outputId": "fa2572f2-21c3-4339-f7c6-9f0baf2804d4",
        "colab": {
          "base_uri": "https://localhost:8080/"
        }
      },
      "execution_count": 61,
      "outputs": [
        {
          "output_type": "stream",
          "name": "stdout",
          "text": [
            "Queue: []\n",
            "Size: 0\n",
            "Dequeue: Queue is empty\n",
            "Queue after Dequeue:  []\n",
            "IsEmpty: True\n",
            "Size: 0\n"
          ]
        }
      ]
    }
  ]
}