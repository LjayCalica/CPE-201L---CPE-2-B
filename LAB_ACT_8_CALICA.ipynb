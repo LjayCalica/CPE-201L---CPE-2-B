{
  "cells": [
    {
      "cell_type": "markdown",
      "metadata": {
        "id": "view-in-github",
        "colab_type": "text"
      },
      "source": [
        "<a href=\"https://colab.research.google.com/github/LjayCalica/CPE-201L---CPE-2-B/blob/main/LAB_ACT_8_CALICA.ipynb\" target=\"_parent\"><img src=\"https://colab.research.google.com/assets/colab-badge.svg\" alt=\"Open In Colab\"/></a>"
      ]
    },
    {
      "cell_type": "code",
      "source": [
        "def create_stack():\n",
        "    stack = []\n",
        "    return stack\n"
      ],
      "metadata": {
        "id": "X4MR8UKr9h-U"
      },
      "execution_count": null,
      "outputs": []
    },
    {
      "cell_type": "code",
      "source": [
        "def size(stack):\n",
        "    return len(stack)\n",
        "\n",
        "print(\"The length of the stack is:\", size(stack))\n"
      ],
      "metadata": {
        "id": "mr5r3vNZDYPO",
        "outputId": "d1da48b9-0f31-411a-9a8c-35899146fe87",
        "colab": {
          "base_uri": "https://localhost:8080/"
        }
      },
      "execution_count": null,
      "outputs": [
        {
          "output_type": "stream",
          "name": "stdout",
          "text": [
            "The length of the stack is: 2\n"
          ]
        }
      ]
    },
    {
      "cell_type": "code",
      "source": [
        "def is_empty(stack):\n",
        "    return len(stack) == 0\n"
      ],
      "metadata": {
        "id": "ZrhEcAce9r_d"
      },
      "execution_count": null,
      "outputs": []
    },
    {
      "cell_type": "code",
      "source": [
        "def push(stack, item):\n",
        "    stack.append(item)\n",
        "    print(\"Pushed Element: \" + item)\n"
      ],
      "metadata": {
        "id": "NZ2jdL909wv6"
      },
      "execution_count": null,
      "outputs": []
    },
    {
      "cell_type": "code",
      "source": [
        "def pop(stack):\n",
        "    if (is_empty(stack)):\n",
        "        return \"The stack is empty\"\n",
        "    return stack.pop()\n",
        "\n",
        "stack = create_stack()\n",
        "push(stack, str(1))\n",
        "push(stack, str(2))\n",
        "push(stack, str(3))\n",
        "push(stack, str(4))\n",
        "push(stack, str(5))\n",
        "\n",
        "print(\"The elements in the stack are:\"+ str(stack))\n",
        "\n",
        "print(\"Popped Element: \" + pop(stack))\n",
        "print(\"Popped Element: \" + pop(stack))\n",
        "print(\"Popped Element: \" + pop(stack))\n",
        "\n",
        "print(\"The elements in the stack are:\"+ str(stack))\n",
        "\n",
        "print(\"The length of the stack is:\", size(stack))"
      ],
      "metadata": {
        "id": "I0FKuxKU9z_d",
        "outputId": "412be876-276c-4e7a-c116-e53ccba8f697",
        "colab": {
          "base_uri": "https://localhost:8080/"
        }
      },
      "execution_count": null,
      "outputs": [
        {
          "output_type": "stream",
          "name": "stdout",
          "text": [
            "Pushed Element: 1\n",
            "Pushed Element: 2\n",
            "Pushed Element: 3\n",
            "Pushed Element: 4\n",
            "Pushed Element: 5\n",
            "The elements in the stack are:['1', '2', '3', '4', '5']\n",
            "Popped Element: 5\n",
            "Popped Element: 4\n",
            "Popped Element: 3\n",
            "The elements in the stack are:['1', '2']\n",
            "The length of the stack is: 2\n"
          ]
        }
      ]
    }
  ],
  "metadata": {
    "colab": {
      "toc_visible": true,
      "provenance": [],
      "include_colab_link": true
    },
    "kernelspec": {
      "display_name": "Python 3",
      "name": "python3"
    }
  },
  "nbformat": 4,
  "nbformat_minor": 0
}