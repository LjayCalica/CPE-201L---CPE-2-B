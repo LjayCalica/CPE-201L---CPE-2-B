{
  "cells": [
    {
      "cell_type": "markdown",
      "metadata": {
        "id": "view-in-github",
        "colab_type": "text"
      },
      "source": [
        "<a href=\"https://colab.research.google.com/github/LjayCalica/CPE-201L---CPE-2-B/blob/main/Skill_Test.ipynb\" target=\"_parent\"><img src=\"https://colab.research.google.com/assets/colab-badge.svg\" alt=\"Open In Colab\"/></a>"
      ]
    },
    {
      "cell_type": "code",
      "source": [
        "full_name = \"L-JAYCALICA\"\n",
        "\n",
        "char_array = list(full_name)\n",
        "\n",
        "middle_index = len(char_array) // 2\n",
        "\n",
        "char_array.insert(middle_index, \"_\")\n",
        "\n",
        "print(\"Full name with underscore in the middle:\")\n",
        "print(\"\".join(char_array))\n",
        "\n",
        "print(\"\\nTraversed characters with index:\")\n",
        "for index, ch in enumerate(char_array):\n",
        "    print(f\"Index {index}: {ch}\")\n"
      ],
      "metadata": {
        "id": "u0xtWCGNrpQ7",
        "outputId": "b2fa3e17-b6dc-487d-db95-f12e3eebf788",
        "colab": {
          "base_uri": "https://localhost:8080/"
        }
      },
      "execution_count": 36,
      "outputs": [
        {
          "output_type": "stream",
          "name": "stdout",
          "text": [
            "Full name with underscore in the middle:\n",
            "L-JAY_CALICA\n",
            "\n",
            "Traversed characters with index:\n",
            "Index 0: L\n",
            "Index 1: -\n",
            "Index 2: J\n",
            "Index 3: A\n",
            "Index 4: Y\n",
            "Index 5: _\n",
            "Index 6: C\n",
            "Index 7: A\n",
            "Index 8: L\n",
            "Index 9: I\n",
            "Index 10: C\n",
            "Index 11: A\n"
          ]
        }
      ]
    }
  ],
  "metadata": {
    "colab": {
      "name": "Welcome To Colab",
      "toc_visible": true,
      "provenance": [],
      "include_colab_link": true
    },
    "kernelspec": {
      "display_name": "Python 3",
      "name": "python3"
    }
  },
  "nbformat": 4,
  "nbformat_minor": 0
}