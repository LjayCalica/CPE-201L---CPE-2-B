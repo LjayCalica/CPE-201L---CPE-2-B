{
  "cells": [
    {
      "cell_type": "markdown",
      "metadata": {
        "id": "view-in-github",
        "colab_type": "text"
      },
      "source": [
        "<a href=\"https://colab.research.google.com/github/LjayCalica/CPE-201L---CPE-2-B/blob/main/First%20Week%20Activity1.ipynb\" target=\"_parent\"><img src=\"https://colab.research.google.com/assets/colab-badge.svg\" alt=\"Open In Colab\"/></a>"
      ]
    },
    {
      "cell_type": "markdown",
      "source": [
        "#ALGORITHM : 1"
      ],
      "metadata": {
        "id": "Y3Jr2er4eNH8"
      }
    },
    {
      "cell_type": "code",
      "source": [
        "import math\n",
        "\n",
        "def area_of_circle(radius):\n",
        "    return math.pi * radius ** 2\n",
        "\n",
        "radius = float(input(\"Enter the radius of the circle: \"))\n",
        "\n",
        "area = area_of_circle(radius)\n",
        "print(f\"The area of the circle with radius {radius} is {area:.2f}\")\n"
      ],
      "metadata": {
        "colab": {
          "base_uri": "https://localhost:8080/"
        },
        "id": "CXtUDysmeEKb",
        "outputId": "99a086e6-5200-4ec0-abf3-ef9fa37c098f"
      },
      "execution_count": null,
      "outputs": [
        {
          "output_type": "stream",
          "name": "stdout",
          "text": [
            "Enter the radius of the circle: 10\n",
            "The area of the circle with radius 10.0 is 314.16\n"
          ]
        }
      ]
    },
    {
      "cell_type": "markdown",
      "source": [
        "#ALGORITHM : 2"
      ],
      "metadata": {
        "id": "_ZRD4HdogUFh"
      }
    },
    {
      "cell_type": "code",
      "source": [
        "import math\n",
        "def area_of_circle(diameter):\n",
        "  print ( math.pi * diameter**2/4)\n",
        "\n",
        "area_of_circle(20)\n",
        "\n"
      ],
      "metadata": {
        "id": "2gbjWz_NfyAS",
        "outputId": "76e0d6b6-2e74-4d87-c638-bd4ea2ad3f38",
        "colab": {
          "base_uri": "https://localhost:8080/"
        }
      },
      "execution_count": 1,
      "outputs": [
        {
          "output_type": "stream",
          "name": "stdout",
          "text": [
            "314.1592653589793\n"
          ]
        }
      ]
    }
  ],
  "metadata": {
    "colab": {
      "name": "Welcome To Colab",
      "provenance": [],
      "include_colab_link": true
    },
    "kernelspec": {
      "display_name": "Python 3",
      "name": "python3"
    }
  },
  "nbformat": 4,
  "nbformat_minor": 0
}