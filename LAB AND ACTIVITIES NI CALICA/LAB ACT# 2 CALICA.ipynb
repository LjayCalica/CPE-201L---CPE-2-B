{
  "cells": [
    {
      "cell_type": "markdown",
      "metadata": {
        "id": "view-in-github",
        "colab_type": "text"
      },
      "source": [
        "<a href=\"https://colab.research.google.com/github/LjayCalica/CPE-201L---CPE-2-B/blob/main/LAB%20ACT%23%202%20CALICA.ipynb\" target=\"_parent\"><img src=\"https://colab.research.google.com/assets/colab-badge.svg\" alt=\"Open In Colab\"/></a>"
      ]
    },
    {
      "cell_type": "code",
      "source": [
        "def absolute_value(x: float) -> float:\n",
        "\n",
        "    return -x if x < 0 else x\n",
        "\n",
        "def recursive_min_max(sequence: list, index: int = 0,\n",
        "                     current_min: float = None,\n",
        "                     current_max: float = None) -> tuple:\n",
        "\n",
        "    if index >= len(sequence):\n",
        "        return (current_min, current_max) if sequence else (None, None)\n",
        "\n",
        "    if index == 0:\n",
        "        current_min, current_max = sequence[0], sequence[0]\n",
        "\n",
        "    return recursive_min_max(\n",
        "        sequence,\n",
        "        index + 1,\n",
        "        min(current_min, sequence[index]),\n",
        "        max(current_max, sequence[index])\n",
        "    )\n",
        "\n",
        "if __name__ == \"__main__\":\n",
        "    print(\"Absolute Value Examples\")\n",
        "    test_cases = [-7, 0, 3.14, -99.9]\n",
        "    for num in test_cases:\n",
        "        print(f\"|{num}| = {absolute_value(num)}\")\n",
        "\n",
        "    print(\"Recursive Min/Max Examples\")\n",
        "    datasets = [\n",
        "        [10, -5, 8, 200],\n",
        "        [0.5, 0.5, 0.5],\n",
        "        []\n",
        "    ]\n",
        "    for data in datasets:\n",
        "        mn, mx = recursive_min_max(data)\n",
        "        print(f\"Data: {data} → Min: {mn}, Max: {mx}\")"
      ],
      "metadata": {
        "id": "djHU3MavgyN6",
        "outputId": "f0798310-3700-4827-eeab-d6b6090eadf2",
        "colab": {
          "base_uri": "https://localhost:8080/"
        }
      },
      "execution_count": 10,
      "outputs": [
        {
          "output_type": "stream",
          "name": "stdout",
          "text": [
            "Absolute Value Examples\n",
            "|-7| = 7\n",
            "|0| = 0\n",
            "|3.14| = 3.14\n",
            "|-99.9| = 99.9\n",
            "Recursive Min/Max Examples\n",
            "Data: [10, -5, 8, 200] → Min: -5, Max: 200\n",
            "Data: [0.5, 0.5, 0.5] → Min: 0.5, Max: 0.5\n",
            "Data: [] → Min: None, Max: None\n"
          ]
        }
      ]
    }
  ],
  "metadata": {
    "colab": {
      "name": "Welcome To Colab",
      "toc_visible": true,
      "provenance": [],
      "include_colab_link": true
    },
    "kernelspec": {
      "display_name": "Python 3",
      "name": "python3"
    }
  },
  "nbformat": 4,
  "nbformat_minor": 0
}