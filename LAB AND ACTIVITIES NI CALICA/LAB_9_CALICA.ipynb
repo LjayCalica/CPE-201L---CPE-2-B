{
  "cells": [
    {
      "cell_type": "markdown",
      "metadata": {
        "id": "view-in-github",
        "colab_type": "text"
      },
      "source": [
        "<a href=\"https://colab.research.google.com/github/LjayCalica/CPE-201L---CPE-2-B/blob/main/LAB_9_CALICA.ipynb\" target=\"_parent\"><img src=\"https://colab.research.google.com/assets/colab-badge.svg\" alt=\"Open In Colab\"/></a>"
      ]
    },
    {
      "cell_type": "code",
      "source": [
        "def create_queue():\n",
        "    queue = []\n",
        "    return queue\n",
        "\n",
        "def is_empty(queue):\n",
        "    return len(queue) == 0\n",
        "\n",
        "def enqueue(queue, item):\n",
        "    queue.append(item)\n",
        "    print(\"Enqueued Element: \" + str(item))\n",
        "\n",
        "def dequeue(queue):\n",
        "    if (is_empty(queue)):\n",
        "        return \"The queue is empty\"\n",
        "    return queue.pop(0)\n",
        "\n",
        "def first(queue):\n",
        "    if (is_empty(queue)):\n",
        "        return \"The queue is empty\"\n",
        "    return queue[0]\n",
        "\n",
        "def queue_size(queue):\n",
        "    return len(queue)\n",
        "\n",
        "queue = create_queue()\n",
        "enqueue(queue, 1)\n",
        "enqueue(queue, 2)\n",
        "enqueue(queue, 3)\n",
        "enqueue(queue, 4)\n",
        "enqueue(queue, 5)\n",
        "\n",
        "print(\"The elements in the queue are: \"+ str(queue))\n",
        "\n",
        "print(\"Front element: \" + str(first(queue)))\n",
        "\n",
        "print(\"Dequeued element: \" + str(dequeue(queue)))\n",
        "print(\"Queue after dequeue: \" + str(queue))\n",
        "\n",
        "print(\"Queue size: \" + str(queue_size(queue)))"
      ],
      "metadata": {
        "id": "fkNgmSlv-0_a",
        "outputId": "7f49c08f-04fd-4642-e3b9-588b77864d13",
        "colab": {
          "base_uri": "https://localhost:8080/"
        }
      },
      "execution_count": null,
      "outputs": [
        {
          "output_type": "stream",
          "name": "stdout",
          "text": [
            "Enqueued Element: 1\n",
            "Enqueued Element: 2\n",
            "Enqueued Element: 3\n",
            "Enqueued Element: 4\n",
            "Enqueued Element: 5\n",
            "The elements in the queue are: [1, 2, 3, 4, 5]\n",
            "Front element: 1\n",
            "Dequeued element: 1\n",
            "Queue after dequeue: [2, 3, 4, 5]\n",
            "Queue size: 4\n"
          ]
        }
      ]
    }
  ],
  "metadata": {
    "colab": {
      "toc_visible": true,
      "provenance": [],
      "include_colab_link": true
    },
    "kernelspec": {
      "display_name": "Python 3",
      "name": "python3"
    }
  },
  "nbformat": 4,
  "nbformat_minor": 0
}