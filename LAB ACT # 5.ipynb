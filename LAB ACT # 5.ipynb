{
  "nbformat": 4,
  "nbformat_minor": 0,
  "metadata": {
    "colab": {
      "provenance": [],
      "name": "LAB ACT # 5 CALICA.ipynb",
      "include_colab_link": true
    },
    "kernelspec": {
      "name": "python3",
      "display_name": "Python 3"
    },
    "language_info": {
      "name": "python"
    }
  },
  "cells": [
    {
      "cell_type": "markdown",
      "metadata": {
        "id": "view-in-github",
        "colab_type": "text"
      },
      "source": [
        "<a href=\"https://colab.research.google.com/github/LjayCalica/CPE-201L---CPE-2-B/blob/main/LAB%20ACT%20%23%205.ipynb\" target=\"_parent\"><img src=\"https://colab.research.google.com/assets/colab-badge.svg\" alt=\"Open In Colab\"/></a>"
      ]
    },
    {
      "cell_type": "code",
      "source": [
        "def main():\n",
        "    # Task 1: Display and sum an array of 10 integers\n",
        "    print(\"Task 1: Array Operations\")\n",
        "    numbers = [1, 2, 3, 4, 5, 6, 7, 8, 9, 10]\n",
        "    print(\"Original array:\", numbers)\n",
        "\n",
        "    print(\"\\nAccessing elements by index:\")\n",
        "    for i in range(len(numbers)):\n",
        "        print(f\"Element at index {i}: {numbers[i]}\")\n",
        "\n",
        "    array_sum = sum(numbers)\n",
        "    print(\"\\nSum of array elements:\", array_sum)\n",
        "\n",
        "    # Task 2: Append a new item\n",
        "    print(\"\\n\\nTask 2: Appending an Element\")\n",
        "    numbers.append(11)\n",
        "    print(\"Array after appending 11:\", numbers)\n",
        "\n",
        "    # Task 3: Insert before second element\n",
        "    print(\"\\n\\nTask 3: Inserting an Element\")\n",
        "    numbers = [1, 2, 3, 4, 5, 6, 7, 8, 9, 10]  # Reset array\n",
        "    numbers.insert(1, 99)  # Insert before index 1 (second element)\n",
        "    print(\"Array after inserting 99 before second element:\", numbers)\n",
        "\n",
        "    # Task 4: Reverse the array\n",
        "    print(\"\\n\\nTask 4: Reversing the Array\")\n",
        "    numbers = [5, 4, 3, 2, 1]  # New array as specified\n",
        "    print(\"Original array:\", numbers)\n",
        "    numbers.reverse()\n",
        "    print(\"Reversed array:\", numbers)\n",
        "\n",
        "    # Task 5: Get array length\n",
        "    print(\"\\n\\nTask 5: Array Length\")\n",
        "    numbers = [5, 4, 3, 2, 1]  # New array as specified\n",
        "    print(\"Array:\", numbers)\n",
        "    print(\"Length of array:\", len(numbers))\n",
        "\n",
        "if __name__ == \"__main__\":\n",
        "    main()"
      ],
      "metadata": {
        "colab": {
          "base_uri": "https://localhost:8080/"
        },
        "id": "YTljGC5tHubN",
        "outputId": "debaa13e-ab97-45cf-831f-f77e9c60891a"
      },
      "execution_count": null,
      "outputs": [
        {
          "output_type": "stream",
          "name": "stdout",
          "text": [
            "Task 1: Array Operations\n",
            "Original array: [1, 2, 3, 4, 5, 6, 7, 8, 9, 10]\n",
            "\n",
            "Accessing elements by index:\n",
            "Element at index 0: 1\n",
            "Element at index 1: 2\n",
            "Element at index 2: 3\n",
            "Element at index 3: 4\n",
            "Element at index 4: 5\n",
            "Element at index 5: 6\n",
            "Element at index 6: 7\n",
            "Element at index 7: 8\n",
            "Element at index 8: 9\n",
            "Element at index 9: 10\n",
            "\n",
            "Sum of array elements: 55\n",
            "\n",
            "\n",
            "Task 2: Appending an Element\n",
            "Array after appending 11: [1, 2, 3, 4, 5, 6, 7, 8, 9, 10, 11]\n",
            "\n",
            "\n",
            "Task 3: Inserting an Element\n",
            "Array after inserting 99 before second element: [1, 99, 2, 3, 4, 5, 6, 7, 8, 9, 10]\n",
            "\n",
            "\n",
            "Task 4: Reversing the Array\n",
            "Original array: [5, 4, 3, 2, 1]\n",
            "Reversed array: [1, 2, 3, 4, 5]\n",
            "\n",
            "\n",
            "Task 5: Array Length\n",
            "Array: [5, 4, 3, 2, 1]\n",
            "Length of array: 5\n"
          ]
        }
      ]
    }
  ]
}