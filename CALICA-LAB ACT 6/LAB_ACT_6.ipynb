{
  "nbformat": 4,
  "nbformat_minor": 0,
  "metadata": {
    "colab": {
      "provenance": [],
      "authorship_tag": "ABX9TyOY2kU57XwGm+EGXm5yWwfZ",
      "include_colab_link": true
    },
    "kernelspec": {
      "name": "python3",
      "display_name": "Python 3"
    },
    "language_info": {
      "name": "python"
    }
  },
  "cells": [
    {
      "cell_type": "markdown",
      "metadata": {
        "id": "view-in-github",
        "colab_type": "text"
      },
      "source": [
        "<a href=\"https://colab.research.google.com/github/LjayCalica/CPE-201L---CPE-2-B/blob/main/LAB_ACT_6.ipynb\" target=\"_parent\"><img src=\"https://colab.research.google.com/assets/colab-badge.svg\" alt=\"Open In Colab\"/></a>"
      ]
    },
    {
      "cell_type": "code",
      "execution_count": 5,
      "metadata": {
        "colab": {
          "base_uri": "https://localhost:8080/"
        },
        "id": "BF7XtzORk6Js",
        "outputId": "df7fed5f-94ce-4605-f1d7-58ce21f60c5d"
      },
      "outputs": [
        {
          "output_type": "stream",
          "name": "stdout",
          "text": [
            "Prime numbers in linked list (with indexes):\n",
            "Index 0 → 2\n",
            "Index 1 → 3\n",
            "Index 2 → 5\n",
            "Index 3 → 7\n",
            "Index 4 → 11\n",
            "Index 5 → 13\n",
            "Index 6 → 17\n",
            "Index 7 → 19\n",
            "\n",
            "Head of the list: 2\n",
            "Tail of the list: 19\n"
          ]
        }
      ],
      "source": [
        "class Node:\n",
        "    def __init__(self, data):\n",
        "        self.data = data\n",
        "        self.next = None\n",
        "\n",
        "class LinkedList:\n",
        "    def __init__(self):\n",
        "        self.head = None\n",
        "\n",
        "    def append(self, data):\n",
        "        new_node = Node(data)\n",
        "        if not self.head:\n",
        "            self.head = new_node\n",
        "            return\n",
        "        temp = self.head\n",
        "        while temp.next:\n",
        "            temp = temp.next\n",
        "        temp.next = new_node\n",
        "\n",
        "    def display_with_index(self):\n",
        "        temp = self.head\n",
        "        index = 0\n",
        "        while temp:\n",
        "            print(f\"Index {index} → {temp.data}\")\n",
        "            temp = temp.next\n",
        "            index += 1\n",
        "\n",
        "    def get_tail(self):\n",
        "        temp = self.head\n",
        "        while temp and temp.next:\n",
        "            temp = temp.next\n",
        "        return temp.data if temp else None\n",
        "\n",
        "def is_prime(n):\n",
        "    if n < 2:\n",
        "        return False\n",
        "    for i in range(2, int(n**0.5) + 1):\n",
        "        if n % i == 0:\n",
        "            return False\n",
        "    return True\n",
        "\n",
        "prime_list = LinkedList()\n",
        "for num in range(20):\n",
        "    if is_prime(num):\n",
        "        prime_list.append(num)\n",
        "\n",
        "print(\"Prime numbers in linked list (with indexes):\")\n",
        "prime_list.display_with_index()\n",
        "\n",
        "print(\"\\nHead of the list:\", prime_list.head.data)\n",
        "print(\"Tail of the list:\", prime_list.get_tail())\n"
      ]
    }
  ]
}