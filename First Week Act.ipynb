{
  "cells": [
    {
      "cell_type": "markdown",
      "metadata": {
        "id": "view-in-github",
        "colab_type": "text"
      },
      "source": [
        "<a href=\"https://colab.research.google.com/github/LjayCalica/CPE-201L---CPE-2-B/blob/main/First%20Week%20Act.ipynb\" target=\"_parent\"><img src=\"https://colab.research.google.com/assets/colab-badge.svg\" alt=\"Open In Colab\"/></a>"
      ]
    },
    {
      "cell_type": "markdown",
      "source": [
        "#ALGORITHM 1 :"
      ],
      "metadata": {
        "id": "2y74csozcsrC"
      }
    },
    {
      "cell_type": "code",
      "source": [
        "import math\n",
        "\n",
        "def area_of_circle(radius):\n",
        "    return math.pi * radius ** 2\n",
        "\n",
        "radius = float(input(\"Enter the radius of your circle: \"))\n",
        "area = area_of_circle(radius)\n",
        "\n",
        "print(f\"Circle with radius {radius} has an area of {area:.2f} square units.\")\n"
      ],
      "metadata": {
        "id": "BrguSy7rbx7j",
        "outputId": "4462ff56-b95a-43f3-fb52-c40599f774db",
        "colab": {
          "base_uri": "https://localhost:8080/"
        }
      },
      "execution_count": null,
      "outputs": [
        {
          "output_type": "stream",
          "name": "stdout",
          "text": [
            "Enter the radius of your circle: 32\n",
            "Circle with radius 32.0 has an area of 3216.99 square units.\n"
          ]
        }
      ]
    }
  ],
  "metadata": {
    "colab": {
      "name": "Welcome To Colab",
      "provenance": [],
      "include_colab_link": true
    },
    "kernelspec": {
      "display_name": "Python 3",
      "name": "python3"
    }
  },
  "nbformat": 4,
  "nbformat_minor": 0
}